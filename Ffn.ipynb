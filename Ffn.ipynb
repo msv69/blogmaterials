{
  "nbformat": 4,
  "nbformat_minor": 0,
  "metadata": {
    "colab": {
      "name": "Ffn.ipynb",
      "provenance": [],
      "collapsed_sections": [],
      "include_colab_link": true
    },
    "kernelspec": {
      "name": "python3",
      "display_name": "Python 3"
    }
  },
  "cells": [
    {
      "cell_type": "markdown",
      "metadata": {
        "id": "view-in-github",
        "colab_type": "text"
      },
      "source": [
        "<a href=\"https://colab.research.google.com/github/msv69/blogmaterials/blob/master/Ffn.ipynb\" target=\"_parent\"><img src=\"https://colab.research.google.com/assets/colab-badge.svg\" alt=\"Open In Colab\"/></a>"
      ]
    },
    {
      "cell_type": "code",
      "metadata": {
        "id": "EYJ53n6ApUDS",
        "colab_type": "code",
        "colab": {
          "base_uri": "https://localhost:8080/",
          "height": 631
        },
        "outputId": "367cc657-3318-4450-a654-cee46f85dc36"
      },
      "source": [
        "pip install ffn"
      ],
      "execution_count": 3,
      "outputs": [
        {
          "output_type": "stream",
          "text": [
            "Collecting ffn\n",
            "  Downloading https://files.pythonhosted.org/packages/b0/9f/0a16afc87d307140ecf3aa78df3985ee2b3fc67ee883ff53edada022a8aa/ffn-0.3.4.tar.gz\n",
            "Requirement already satisfied: decorator>=4 in /usr/local/lib/python3.6/dist-packages (from ffn) (4.4.1)\n",
            "Requirement already satisfied: numpy>=1.5 in /usr/local/lib/python3.6/dist-packages (from ffn) (1.17.4)\n",
            "Requirement already satisfied: pandas>=0.19 in /usr/local/lib/python3.6/dist-packages (from ffn) (0.25.3)\n",
            "Requirement already satisfied: pandas-datareader>=0.2 in /usr/local/lib/python3.6/dist-packages (from ffn) (0.7.4)\n",
            "Requirement already satisfied: tabulate>=0.7.5 in /usr/local/lib/python3.6/dist-packages (from ffn) (0.8.5)\n",
            "Requirement already satisfied: matplotlib>=1 in /usr/local/lib/python3.6/dist-packages (from ffn) (3.1.1)\n",
            "Requirement already satisfied: scikit-learn>=0.15 in /usr/local/lib/python3.6/dist-packages (from ffn) (0.21.3)\n",
            "Requirement already satisfied: scipy>=0.15 in /usr/local/lib/python3.6/dist-packages (from ffn) (1.3.2)\n",
            "Requirement already satisfied: future>=0.15 in /usr/local/lib/python3.6/dist-packages (from ffn) (0.16.0)\n",
            "Requirement already satisfied: pytz>=2017.2 in /usr/local/lib/python3.6/dist-packages (from pandas>=0.19->ffn) (2018.9)\n",
            "Requirement already satisfied: python-dateutil>=2.6.1 in /usr/local/lib/python3.6/dist-packages (from pandas>=0.19->ffn) (2.6.1)\n",
            "Requirement already satisfied: lxml in /usr/local/lib/python3.6/dist-packages (from pandas-datareader>=0.2->ffn) (4.2.6)\n",
            "Requirement already satisfied: wrapt in /usr/local/lib/python3.6/dist-packages (from pandas-datareader>=0.2->ffn) (1.11.2)\n",
            "Requirement already satisfied: requests>=2.3.0 in /usr/local/lib/python3.6/dist-packages (from pandas-datareader>=0.2->ffn) (2.21.0)\n",
            "Requirement already satisfied: pyparsing!=2.0.4,!=2.1.2,!=2.1.6,>=2.0.1 in /usr/local/lib/python3.6/dist-packages (from matplotlib>=1->ffn) (2.4.5)\n",
            "Requirement already satisfied: cycler>=0.10 in /usr/local/lib/python3.6/dist-packages (from matplotlib>=1->ffn) (0.10.0)\n",
            "Requirement already satisfied: kiwisolver>=1.0.1 in /usr/local/lib/python3.6/dist-packages (from matplotlib>=1->ffn) (1.1.0)\n",
            "Requirement already satisfied: joblib>=0.11 in /usr/local/lib/python3.6/dist-packages (from scikit-learn>=0.15->ffn) (0.14.0)\n",
            "Requirement already satisfied: six>=1.5 in /usr/local/lib/python3.6/dist-packages (from python-dateutil>=2.6.1->pandas>=0.19->ffn) (1.12.0)\n",
            "Requirement already satisfied: urllib3<1.25,>=1.21.1 in /usr/local/lib/python3.6/dist-packages (from requests>=2.3.0->pandas-datareader>=0.2->ffn) (1.24.3)\n",
            "Requirement already satisfied: chardet<3.1.0,>=3.0.2 in /usr/local/lib/python3.6/dist-packages (from requests>=2.3.0->pandas-datareader>=0.2->ffn) (3.0.4)\n",
            "Requirement already satisfied: certifi>=2017.4.17 in /usr/local/lib/python3.6/dist-packages (from requests>=2.3.0->pandas-datareader>=0.2->ffn) (2019.9.11)\n",
            "Requirement already satisfied: idna<2.9,>=2.5 in /usr/local/lib/python3.6/dist-packages (from requests>=2.3.0->pandas-datareader>=0.2->ffn) (2.8)\n",
            "Requirement already satisfied: setuptools in /usr/local/lib/python3.6/dist-packages (from kiwisolver>=1.0.1->matplotlib>=1->ffn) (41.6.0)\n",
            "Building wheels for collected packages: ffn\n",
            "  Building wheel for ffn (setup.py) ... \u001b[?25l\u001b[?25hdone\n",
            "  Created wheel for ffn: filename=ffn-0.3.4-cp36-none-any.whl size=22813 sha256=2f1264ffe431b7e5fcc1118f2dc44a33a8343471970dac522a95ce80b88426db\n",
            "  Stored in directory: /root/.cache/pip/wheels/20/08/4d/921180e81279d147cb6399fe1e194f2c67a796df86f9f4c5fe\n",
            "Successfully built ffn\n",
            "Installing collected packages: ffn\n",
            "Successfully installed ffn-0.3.4\n"
          ],
          "name": "stdout"
        }
      ]
    },
    {
      "cell_type": "code",
      "metadata": {
        "id": "7GmJm3uRl8LD",
        "colab_type": "code",
        "colab": {}
      },
      "source": [
        "import ffn as f\n",
        "%matplotlib inline"
      ],
      "execution_count": 0,
      "outputs": []
    },
    {
      "cell_type": "code",
      "metadata": {
        "id": "eYEauLghpdVg",
        "colab_type": "code",
        "colab": {
          "base_uri": "https://localhost:8080/",
          "height": 143
        },
        "outputId": "fd5f404c-41cb-4e5d-a314-cad8a926d00f"
      },
      "source": [
        "data = f.get('GOOG, FB, MSFT, GS, C', start='2019-01-01', end='2019-11-27')\n",
        "print(data.head())"
      ],
      "execution_count": 6,
      "outputs": [
        {
          "output_type": "stream",
          "text": [
            "                   goog          fb        msft          gs          c\n",
            "Date                                                                  \n",
            "2019-01-02  1045.849976  135.679993   99.646614  168.555115  52.050186\n",
            "2019-01-03  1016.059998  131.740005   95.980820  166.085999  51.107002\n",
            "2019-01-04  1070.709961  137.949997  100.444817  171.514114  53.605961\n",
            "2019-01-07  1068.390015  138.050003  100.572922  172.464523  54.072693\n",
            "2019-01-08  1076.280029  142.529999  101.302139  171.827637  53.926834\n"
          ],
          "name": "stdout"
        }
      ]
    }
  ]
}